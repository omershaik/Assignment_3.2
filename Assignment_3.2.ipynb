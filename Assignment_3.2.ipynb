{
 "cells": [
  {
   "cell_type": "markdown",
   "metadata": {},
   "source": [
    "### Implement a Python program to generate all sentences where subject is in [\"Americans\", \"Indians\"] and verb is in [\"Play\", \"watch\"] and the object is in [\"Baseball\",\"cricket\"]."
   ]
  },
  {
   "cell_type": "code",
   "execution_count": 1,
   "metadata": {},
   "outputs": [
    {
     "name": "stdout",
     "output_type": "stream",
     "text": [
      "Americans play Baseball\n",
      "Americans play Cricket\n",
      "Americans watch Baseball\n",
      "Americans watch Cricket\n",
      "Indains play Baseball\n",
      "Indains play Cricket\n",
      "Indains watch Baseball\n",
      "Indains watch Cricket\n"
     ]
    }
   ],
   "source": [
    "subjects = ['Americans','Indains']\n",
    "verbs = ['play', 'watch']\n",
    "objects = ['Baseball','Cricket']\n",
    "\n",
    "for i in subjects:\n",
    "    for j in verbs:\n",
    "        for k in objects:\n",
    "            print(i+\" \"+j+\" \"+k)"
   ]
  },
  {
   "cell_type": "code",
   "execution_count": null,
   "metadata": {
    "collapsed": true
   },
   "outputs": [],
   "source": []
  }
 ],
 "metadata": {
  "kernelspec": {
   "display_name": "Python 3",
   "language": "python",
   "name": "python3"
  },
  "language_info": {
   "codemirror_mode": {
    "name": "ipython",
    "version": 3
   },
   "file_extension": ".py",
   "mimetype": "text/x-python",
   "name": "python",
   "nbconvert_exporter": "python",
   "pygments_lexer": "ipython3",
   "version": "3.6.1"
  }
 },
 "nbformat": 4,
 "nbformat_minor": 2
}
